{
 "cells": [
  {
   "cell_type": "code",
   "execution_count": null,
   "metadata": {},
   "outputs": [],
   "source": [
    "#Load, Transform, Persist Pipeline\n",
    "\n",
    "#1-mount the data lakes\n",
    "#2-loads csvs from landing data lake\n",
    "#3-convert csvs to parquet and move then to processing data lake\n",
    "#4-create sql database\n",
    "#5-create tables based on parquet format files\n",
    "#6-specific analysis wil be moved to curated data lake and then loaded into sql tables\n",
    "#7-powerbi application reads directly from sql tables at databricks rest api service"
   ]
  },
  {
   "attachments": {},
   "cell_type": "markdown",
   "metadata": {},
   "source": [
    "# Mounting Data lakes"
   ]
  },
  {
   "cell_type": "code",
   "execution_count": null,
   "metadata": {},
   "outputs": [],
   "source": [
    "configs = {\"fs.azure.account.auth.type\": \"OAuth\",\n",
    "          \"fs.azure.account.oauth.provider.type\": \"org.apache.hadoop.fs.azurebfs.oauth2.ClientCredsTokenProvider\",\n",
    "          \"fs.azure.account.oauth2.client.id\": \"5c91bc0d-64e8-4c79-866d-16de4bc997a3\", \n",
    "          \"fs.azure.account.oauth2.client.secret\": dbutils.secrets.get(scope=\"vacinacao-scope6\",key=\"vacinacao-secret6\"),\n",
    "          \"fs.azure.account.oauth2.client.endpoint\": \"https://login.microsoftonline.com/abd4a16d-59d9-4bce-afca-7bccec6cabf8/oauth2/token\"}"
   ]
  },
  {
   "cell_type": "code",
   "execution_count": null,
   "metadata": {},
   "outputs": [],
   "source": [
    "# Optionally, you can add <directory-name> to the source URI of your mount point.\n",
    "dbutils.fs.mount(\n",
    "  source = \"abfss://landing@vacinacaocovid19.dfs.core.windows.net/\",\n",
    "  mount_point = \"/mnt/landing\",\n",
    "  extra_configs = configs)\n",
    "\n",
    "dbutils.fs.ls(\"/mnt/landing/\")"
   ]
  },
  {
   "cell_type": "code",
   "execution_count": null,
   "metadata": {},
   "outputs": [],
   "source": [
    "dbutils.fs.mount(\n",
    "  source = \"abfss://processing@vacinacaocovid19.dfs.core.windows.net/\",\n",
    "  mount_point = \"/mnt/processing\",\n",
    "  extra_configs = configs)\n",
    "\n",
    "#   dbutils.fs.ls(\"/mnt/processing\")"
   ]
  },
  {
   "cell_type": "code",
   "execution_count": null,
   "metadata": {},
   "outputs": [],
   "source": [
    "dbutils.fs.mount(\n",
    "  source = \"abfss://curated@vacinacaocovid19.dfs.core.windows.net/\",\n",
    "  mount_point = \"/mnt/curated\",\n",
    "  extra_configs = configs)\n",
    "\n",
    "  dbutils.fs.ls(\"/mnt/curated\")"
   ]
  },
  {
   "attachments": {},
   "cell_type": "markdown",
   "metadata": {},
   "source": [
    "# Readings CSVs in Landing Data Lake to DataFrames"
   ]
  },
  {
   "cell_type": "code",
   "execution_count": null,
   "metadata": {},
   "outputs": [],
   "source": [
    "vacinacao01 = spark.read.format(\"csv\").option(\"inferSchema\", \"true\").option(\"header\",\"true\").option(\"delimiter\",\",\").load(\"/mnt/landing/dados1.csv\")\n",
    "\n",
    " \n",
    "#display the dataframe\n",
    "display(vacinacao01)"
   ]
  },
  {
   "cell_type": "code",
   "execution_count": null,
   "metadata": {},
   "outputs": [],
   "source": [
    "vacinacao01.printSchema()"
   ]
  },
  {
   "cell_type": "code",
   "execution_count": null,
   "metadata": {},
   "outputs": [],
   "source": [
    "#read the rest of csv files to the respectives dataframes\n",
    "\n",
    "vacinacao02 = spark.read.format(\"csv\").option(\"inferSchema\", \"true\").option(\"header\",\"true\").option(\"delimiter\",\",\").load(\"/mnt/landing/dados2.csv\")\n",
    "vacinacao03 = spark.read.format(\"csv\").option(\"inferSchema\", \"true\").option(\"header\",\"true\").option(\"delimiter\",\",\").load(\"/mnt/landing/dados3.csv\")\n",
    "vacinacao04 = spark.read.format(\"csv\").option(\"inferSchema\", \"true\").option(\"header\",\"true\").option(\"delimiter\",\",\").load(\"/mnt/landing/dados4.csv\")\n",
    "vacinacao05 = spark.read.format(\"csv\").option(\"inferSchema\", \"true\").option(\"header\",\"true\").option(\"delimiter\",\",\").load(\"/mnt/landing/dados5.csv\")"
   ]
  },
  {
   "attachments": {},
   "cell_type": "markdown",
   "metadata": {},
   "source": [
    "# Write Full Parquet Datasets to Processing Data lake"
   ]
  },
  {
   "cell_type": "code",
   "execution_count": null,
   "metadata": {},
   "outputs": [],
   "source": [
    "vacinacao01.write.mode(\"overwrite\").parquet(\"/mnt/processing/vacinacao01.parquet\")\n",
    "vacinacao02.write.mode(\"overwrite\").parquet(\"/mnt/processing/vacinacao02.parquet\")\n",
    "vacinacao03.write.mode(\"overwrite\").parquet(\"/mnt/processing/vacinacao03.parquet\")\n",
    "vacinacao04.write.mode(\"overwrite\").parquet(\"/mnt/processing/vacinacao04.parquet\")\n",
    "vacinacao05.write.mode(\"overwrite\").parquet(\"/mnt/processing/vacinacao05.parquet\")"
   ]
  },
  {
   "attachments": {},
   "cell_type": "markdown",
   "metadata": {},
   "source": [
    "# Create SQL Tables based on Parquet files at Processing Data Lake"
   ]
  },
  {
   "cell_type": "code",
   "execution_count": null,
   "metadata": {},
   "outputs": [],
   "source": [
    "%sql\n",
    "CREATE DATABASE IF NOT EXISTS vacinacao"
   ]
  },
  {
   "cell_type": "code",
   "execution_count": null,
   "metadata": {},
   "outputs": [],
   "source": [
    "%sql\n",
    "-- Full parquet\n",
    "CREATE TABLE IF NOT EXISTS vacinacao.vacinacao01 USING PARQUET OPTIONS (path \"/mnt/processing/vacinacao01.parquet\", header \"true\", inferSchema \"true\");\n",
    "CREATE TABLE IF NOT EXISTS vacinacao.vacinacao02 USING PARQUET OPTIONS (path \"/mnt/processing/vacinacao02.parquet\", header \"true\", inferSchema \"true\");\n",
    "CREATE TABLE IF NOT EXISTS vacinacao.vacinacao03 USING PARQUET OPTIONS (path \"/mnt/processing/vacinacao03.parquet\", header \"true\", inferSchema \"true\");\n",
    "CREATE TABLE IF NOT EXISTS vacinacao.vacinacao04 USING PARQUET OPTIONS (path \"/mnt/processing/vacinacao04.parquet\", header \"true\", inferSchema \"true\");\n",
    "CREATE TABLE IF NOT EXISTS vacinacao.vacinacao05 USING PARQUET OPTIONS (path \"/mnt/processing/vacinacao05.parquet\", header \"true\", inferSchema \"true\");"
   ]
  },
  {
   "cell_type": "code",
   "execution_count": null,
   "metadata": {},
   "outputs": [],
   "source": [
    "%sql\n",
    "SELECT * FROM vacinacao.vacinacao01;"
   ]
  },
  {
   "cell_type": "code",
   "execution_count": null,
   "metadata": {},
   "outputs": [],
   "source": [
    "%sql\n",
    "(SELECT * FROM vacinacao.vacinacao01)\n",
    "UNION\n",
    "(SELECT * FROM vacinacao.vacinacao02)\n",
    "UNION\n",
    "(SELECT * FROM vacinacao.vacinacao03)\n",
    "UNION\n",
    "(SELECT * FROM vacinacao.vacinacao04)\n",
    "UNION\n",
    "(SELECT * FROM vacinacao.vacinacao05);"
   ]
  },
  {
   "cell_type": "code",
   "execution_count": null,
   "metadata": {},
   "outputs": [],
   "source": [
    "vacinacao = spark.sql(\"\"\"\n",
    "SELECT \n",
    "paciente_id AS ID_Paciente,\n",
    "paciente_idade AS Idade,\n",
    "paciente_dataNascimento AS Data_Nasciemento,\n",
    "paciente_enumSexoBiologico AS Sexo,\n",
    "paciente_racaCor_valor AS Raca_Cor,\n",
    "CASE WHEN paciente_endereco_nmMunicipio IS NULL\n",
    "THEN '0'\n",
    "ELSE paciente_endereco_nmMunicipio END AS Cidade,\n",
    "CASE WHEN paciente_endereco_nmPais IS NULL\n",
    "THEN '0'\n",
    "ELSE paciente_endereco_nmPais END AS Pais,\n",
    "paciente_endereco_uf AS Estado,\n",
    "paciente_endereco_cep AS CEP,\n",
    "CASE WHEN paciente_nacionalidade_enumNacionalidade IS NULL\n",
    "THEN '0'\n",
    "ELSE paciente_nacionalidade_enumNacionalidade END AS Nacionalidade,\n",
    "estabelecimento_municipio_nome AS Cidade_Posto,\n",
    "estabelecimento_uf AS Estado_Posto,\n",
    "vacina_fabricante_nome AS Fabricante_Vacina,\n",
    "vacina_dataAplicacao AS Data_Aplicacao\n",
    "FROM\n",
    "((SELECT * FROM vacinacao.vacinacao01)\n",
    "UNION\n",
    "(SELECT * FROM vacinacao.vacinacao02)\n",
    "UNION\n",
    "(SELECT * FROM vacinacao.vacinacao03)\n",
    "UNION\n",
    "(SELECT * FROM vacinacao.vacinacao04)\n",
    "UNION\n",
    "(SELECT * FROM vacinacao.vacinacao05))\n",
    "                      \"\"\");"
   ]
  },
  {
   "cell_type": "code",
   "execution_count": null,
   "metadata": {},
   "outputs": [],
   "source": [
    "vacinacao.write.option(\"header\",True).option(\"delimiter\",\",\").mode(\"overwrite\").csv(\"/mnt/curated/vacinacao.csv\")"
   ]
  },
  {
   "cell_type": "code",
   "execution_count": null,
   "metadata": {},
   "outputs": [],
   "source": [
    "vacinacaoMaceio = spark.sql(\"select * from vacinacao where Cidade = 'MACEIO'\")"
   ]
  }
 ],
 "metadata": {
  "language_info": {
   "name": "python"
  },
  "orig_nbformat": 4
 },
 "nbformat": 4,
 "nbformat_minor": 2
}
